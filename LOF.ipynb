{
 "cells": [
  {
   "cell_type": "code",
   "execution_count": 1,
   "id": "b4a2eba4-cb4c-4c46-842b-a084ba45f505",
   "metadata": {
    "tags": []
   },
   "outputs": [],
   "source": [
    "import pandas as pd\n",
    "import numpy as np\n",
    "import matplotlib.pyplot as plt\n",
    "import seaborn as sns\n",
    "\n",
    "import warnings\n",
    "warnings.filterwarnings(\"ignore\")"
   ]
  },
  {
   "cell_type": "code",
   "execution_count": 208,
   "id": "28830831-25fc-4db1-8df9-cdb831574d19",
   "metadata": {
    "tags": []
   },
   "outputs": [],
   "source": [
    "df=sns.load_dataset(\"diamonds\")"
   ]
  },
  {
   "cell_type": "code",
   "execution_count": 209,
   "id": "5778106d-bfd5-45af-89c4-ef006a75f749",
   "metadata": {
    "tags": []
   },
   "outputs": [
    {
     "data": {
      "text/html": [
       "<div>\n",
       "<style scoped>\n",
       "    .dataframe tbody tr th:only-of-type {\n",
       "        vertical-align: middle;\n",
       "    }\n",
       "\n",
       "    .dataframe tbody tr th {\n",
       "        vertical-align: top;\n",
       "    }\n",
       "\n",
       "    .dataframe thead th {\n",
       "        text-align: right;\n",
       "    }\n",
       "</style>\n",
       "<table border=\"1\" class=\"dataframe\">\n",
       "  <thead>\n",
       "    <tr style=\"text-align: right;\">\n",
       "      <th></th>\n",
       "      <th>carat</th>\n",
       "      <th>cut</th>\n",
       "      <th>color</th>\n",
       "      <th>clarity</th>\n",
       "      <th>depth</th>\n",
       "      <th>table</th>\n",
       "      <th>price</th>\n",
       "      <th>x</th>\n",
       "      <th>y</th>\n",
       "      <th>z</th>\n",
       "    </tr>\n",
       "  </thead>\n",
       "  <tbody>\n",
       "    <tr>\n",
       "      <th>0</th>\n",
       "      <td>0.23</td>\n",
       "      <td>Ideal</td>\n",
       "      <td>E</td>\n",
       "      <td>SI2</td>\n",
       "      <td>61.5</td>\n",
       "      <td>55.0</td>\n",
       "      <td>326</td>\n",
       "      <td>3.95</td>\n",
       "      <td>3.98</td>\n",
       "      <td>2.43</td>\n",
       "    </tr>\n",
       "    <tr>\n",
       "      <th>1</th>\n",
       "      <td>0.21</td>\n",
       "      <td>Premium</td>\n",
       "      <td>E</td>\n",
       "      <td>SI1</td>\n",
       "      <td>59.8</td>\n",
       "      <td>61.0</td>\n",
       "      <td>326</td>\n",
       "      <td>3.89</td>\n",
       "      <td>3.84</td>\n",
       "      <td>2.31</td>\n",
       "    </tr>\n",
       "    <tr>\n",
       "      <th>2</th>\n",
       "      <td>0.23</td>\n",
       "      <td>Good</td>\n",
       "      <td>E</td>\n",
       "      <td>VS1</td>\n",
       "      <td>56.9</td>\n",
       "      <td>65.0</td>\n",
       "      <td>327</td>\n",
       "      <td>4.05</td>\n",
       "      <td>4.07</td>\n",
       "      <td>2.31</td>\n",
       "    </tr>\n",
       "    <tr>\n",
       "      <th>3</th>\n",
       "      <td>0.29</td>\n",
       "      <td>Premium</td>\n",
       "      <td>I</td>\n",
       "      <td>VS2</td>\n",
       "      <td>62.4</td>\n",
       "      <td>58.0</td>\n",
       "      <td>334</td>\n",
       "      <td>4.20</td>\n",
       "      <td>4.23</td>\n",
       "      <td>2.63</td>\n",
       "    </tr>\n",
       "    <tr>\n",
       "      <th>4</th>\n",
       "      <td>0.31</td>\n",
       "      <td>Good</td>\n",
       "      <td>J</td>\n",
       "      <td>SI2</td>\n",
       "      <td>63.3</td>\n",
       "      <td>58.0</td>\n",
       "      <td>335</td>\n",
       "      <td>4.34</td>\n",
       "      <td>4.35</td>\n",
       "      <td>2.75</td>\n",
       "    </tr>\n",
       "    <tr>\n",
       "      <th>...</th>\n",
       "      <td>...</td>\n",
       "      <td>...</td>\n",
       "      <td>...</td>\n",
       "      <td>...</td>\n",
       "      <td>...</td>\n",
       "      <td>...</td>\n",
       "      <td>...</td>\n",
       "      <td>...</td>\n",
       "      <td>...</td>\n",
       "      <td>...</td>\n",
       "    </tr>\n",
       "    <tr>\n",
       "      <th>53935</th>\n",
       "      <td>0.72</td>\n",
       "      <td>Ideal</td>\n",
       "      <td>D</td>\n",
       "      <td>SI1</td>\n",
       "      <td>60.8</td>\n",
       "      <td>57.0</td>\n",
       "      <td>2757</td>\n",
       "      <td>5.75</td>\n",
       "      <td>5.76</td>\n",
       "      <td>3.50</td>\n",
       "    </tr>\n",
       "    <tr>\n",
       "      <th>53936</th>\n",
       "      <td>0.72</td>\n",
       "      <td>Good</td>\n",
       "      <td>D</td>\n",
       "      <td>SI1</td>\n",
       "      <td>63.1</td>\n",
       "      <td>55.0</td>\n",
       "      <td>2757</td>\n",
       "      <td>5.69</td>\n",
       "      <td>5.75</td>\n",
       "      <td>3.61</td>\n",
       "    </tr>\n",
       "    <tr>\n",
       "      <th>53937</th>\n",
       "      <td>0.70</td>\n",
       "      <td>Very Good</td>\n",
       "      <td>D</td>\n",
       "      <td>SI1</td>\n",
       "      <td>62.8</td>\n",
       "      <td>60.0</td>\n",
       "      <td>2757</td>\n",
       "      <td>5.66</td>\n",
       "      <td>5.68</td>\n",
       "      <td>3.56</td>\n",
       "    </tr>\n",
       "    <tr>\n",
       "      <th>53938</th>\n",
       "      <td>0.86</td>\n",
       "      <td>Premium</td>\n",
       "      <td>H</td>\n",
       "      <td>SI2</td>\n",
       "      <td>61.0</td>\n",
       "      <td>58.0</td>\n",
       "      <td>2757</td>\n",
       "      <td>6.15</td>\n",
       "      <td>6.12</td>\n",
       "      <td>3.74</td>\n",
       "    </tr>\n",
       "    <tr>\n",
       "      <th>53939</th>\n",
       "      <td>0.75</td>\n",
       "      <td>Ideal</td>\n",
       "      <td>D</td>\n",
       "      <td>SI2</td>\n",
       "      <td>62.2</td>\n",
       "      <td>55.0</td>\n",
       "      <td>2757</td>\n",
       "      <td>5.83</td>\n",
       "      <td>5.87</td>\n",
       "      <td>3.64</td>\n",
       "    </tr>\n",
       "  </tbody>\n",
       "</table>\n",
       "<p>53940 rows × 10 columns</p>\n",
       "</div>"
      ],
      "text/plain": [
       "       carat        cut color clarity  depth  table  price     x     y     z\n",
       "0       0.23      Ideal     E     SI2   61.5   55.0    326  3.95  3.98  2.43\n",
       "1       0.21    Premium     E     SI1   59.8   61.0    326  3.89  3.84  2.31\n",
       "2       0.23       Good     E     VS1   56.9   65.0    327  4.05  4.07  2.31\n",
       "3       0.29    Premium     I     VS2   62.4   58.0    334  4.20  4.23  2.63\n",
       "4       0.31       Good     J     SI2   63.3   58.0    335  4.34  4.35  2.75\n",
       "...      ...        ...   ...     ...    ...    ...    ...   ...   ...   ...\n",
       "53935   0.72      Ideal     D     SI1   60.8   57.0   2757  5.75  5.76  3.50\n",
       "53936   0.72       Good     D     SI1   63.1   55.0   2757  5.69  5.75  3.61\n",
       "53937   0.70  Very Good     D     SI1   62.8   60.0   2757  5.66  5.68  3.56\n",
       "53938   0.86    Premium     H     SI2   61.0   58.0   2757  6.15  6.12  3.74\n",
       "53939   0.75      Ideal     D     SI2   62.2   55.0   2757  5.83  5.87  3.64\n",
       "\n",
       "[53940 rows x 10 columns]"
      ]
     },
     "execution_count": 209,
     "metadata": {},
     "output_type": "execute_result"
    }
   ],
   "source": [
    "df"
   ]
  },
  {
   "cell_type": "code",
   "execution_count": 214,
   "id": "c97cd075-d703-45a1-92ab-1e022c2330f8",
   "metadata": {
    "tags": []
   },
   "outputs": [],
   "source": [
    "X, y=df.drop(\"price\",1), df.price"
   ]
  },
  {
   "cell_type": "code",
   "execution_count": 215,
   "id": "0f4c30ff-0db2-4648-b4f9-cfb94a1b693b",
   "metadata": {
    "tags": []
   },
   "outputs": [],
   "source": [
    "df[\"price\"]=y"
   ]
  },
  {
   "cell_type": "code",
   "execution_count": 196,
   "id": "1b6b7047-6fd3-47b1-98ff-91bdfd815a6f",
   "metadata": {
    "tags": []
   },
   "outputs": [],
   "source": [
    "from category_encoders import TargetEncoder"
   ]
  },
  {
   "cell_type": "code",
   "execution_count": 217,
   "id": "889d7998-1679-4a3c-91a2-4d77ac0a7b15",
   "metadata": {
    "tags": []
   },
   "outputs": [],
   "source": [
    "te=TargetEncoder()\n",
    "df_te=te.fit_transform(X,y)\n",
    "df_te[\"price\"]=y\n",
    "df=df_te"
   ]
  },
  {
   "cell_type": "code",
   "execution_count": 219,
   "id": "a0ea7fde-d4cf-4762-9462-e5f91f502c15",
   "metadata": {
    "tags": []
   },
   "outputs": [
    {
     "data": {
      "text/html": [
       "<div>\n",
       "<style scoped>\n",
       "    .dataframe tbody tr th:only-of-type {\n",
       "        vertical-align: middle;\n",
       "    }\n",
       "\n",
       "    .dataframe tbody tr th {\n",
       "        vertical-align: top;\n",
       "    }\n",
       "\n",
       "    .dataframe thead th {\n",
       "        text-align: right;\n",
       "    }\n",
       "</style>\n",
       "<table border=\"1\" class=\"dataframe\">\n",
       "  <thead>\n",
       "    <tr style=\"text-align: right;\">\n",
       "      <th></th>\n",
       "      <th>carat</th>\n",
       "      <th>cut</th>\n",
       "      <th>color</th>\n",
       "      <th>clarity</th>\n",
       "      <th>depth</th>\n",
       "      <th>table</th>\n",
       "      <th>x</th>\n",
       "      <th>y</th>\n",
       "      <th>z</th>\n",
       "      <th>price</th>\n",
       "    </tr>\n",
       "  </thead>\n",
       "  <tbody>\n",
       "    <tr>\n",
       "      <th>0</th>\n",
       "      <td>0.23</td>\n",
       "      <td>3457.541970</td>\n",
       "      <td>3076.752475</td>\n",
       "      <td>5063.028606</td>\n",
       "      <td>61.5</td>\n",
       "      <td>55.0</td>\n",
       "      <td>3.95</td>\n",
       "      <td>3.98</td>\n",
       "      <td>2.43</td>\n",
       "      <td>326</td>\n",
       "    </tr>\n",
       "    <tr>\n",
       "      <th>1</th>\n",
       "      <td>0.21</td>\n",
       "      <td>4584.257704</td>\n",
       "      <td>3076.752475</td>\n",
       "      <td>3996.001148</td>\n",
       "      <td>59.8</td>\n",
       "      <td>61.0</td>\n",
       "      <td>3.89</td>\n",
       "      <td>3.84</td>\n",
       "      <td>2.31</td>\n",
       "      <td>326</td>\n",
       "    </tr>\n",
       "    <tr>\n",
       "      <th>2</th>\n",
       "      <td>0.23</td>\n",
       "      <td>3928.864452</td>\n",
       "      <td>3076.752475</td>\n",
       "      <td>3839.455391</td>\n",
       "      <td>56.9</td>\n",
       "      <td>65.0</td>\n",
       "      <td>4.05</td>\n",
       "      <td>4.07</td>\n",
       "      <td>2.31</td>\n",
       "      <td>327</td>\n",
       "    </tr>\n",
       "    <tr>\n",
       "      <th>3</th>\n",
       "      <td>0.29</td>\n",
       "      <td>4584.257704</td>\n",
       "      <td>5091.874954</td>\n",
       "      <td>3924.989395</td>\n",
       "      <td>62.4</td>\n",
       "      <td>58.0</td>\n",
       "      <td>4.20</td>\n",
       "      <td>4.23</td>\n",
       "      <td>2.63</td>\n",
       "      <td>334</td>\n",
       "    </tr>\n",
       "    <tr>\n",
       "      <th>4</th>\n",
       "      <td>0.31</td>\n",
       "      <td>3928.864452</td>\n",
       "      <td>5323.818020</td>\n",
       "      <td>5063.028606</td>\n",
       "      <td>63.3</td>\n",
       "      <td>58.0</td>\n",
       "      <td>4.34</td>\n",
       "      <td>4.35</td>\n",
       "      <td>2.75</td>\n",
       "      <td>335</td>\n",
       "    </tr>\n",
       "    <tr>\n",
       "      <th>...</th>\n",
       "      <td>...</td>\n",
       "      <td>...</td>\n",
       "      <td>...</td>\n",
       "      <td>...</td>\n",
       "      <td>...</td>\n",
       "      <td>...</td>\n",
       "      <td>...</td>\n",
       "      <td>...</td>\n",
       "      <td>...</td>\n",
       "      <td>...</td>\n",
       "    </tr>\n",
       "    <tr>\n",
       "      <th>53935</th>\n",
       "      <td>0.72</td>\n",
       "      <td>3457.541970</td>\n",
       "      <td>3169.954096</td>\n",
       "      <td>3996.001148</td>\n",
       "      <td>60.8</td>\n",
       "      <td>57.0</td>\n",
       "      <td>5.75</td>\n",
       "      <td>5.76</td>\n",
       "      <td>3.50</td>\n",
       "      <td>2757</td>\n",
       "    </tr>\n",
       "    <tr>\n",
       "      <th>53936</th>\n",
       "      <td>0.72</td>\n",
       "      <td>3928.864452</td>\n",
       "      <td>3169.954096</td>\n",
       "      <td>3996.001148</td>\n",
       "      <td>63.1</td>\n",
       "      <td>55.0</td>\n",
       "      <td>5.69</td>\n",
       "      <td>5.75</td>\n",
       "      <td>3.61</td>\n",
       "      <td>2757</td>\n",
       "    </tr>\n",
       "    <tr>\n",
       "      <th>53937</th>\n",
       "      <td>0.70</td>\n",
       "      <td>3981.759891</td>\n",
       "      <td>3169.954096</td>\n",
       "      <td>3996.001148</td>\n",
       "      <td>62.8</td>\n",
       "      <td>60.0</td>\n",
       "      <td>5.66</td>\n",
       "      <td>5.68</td>\n",
       "      <td>3.56</td>\n",
       "      <td>2757</td>\n",
       "    </tr>\n",
       "    <tr>\n",
       "      <th>53938</th>\n",
       "      <td>0.86</td>\n",
       "      <td>4584.257704</td>\n",
       "      <td>4486.669196</td>\n",
       "      <td>5063.028606</td>\n",
       "      <td>61.0</td>\n",
       "      <td>58.0</td>\n",
       "      <td>6.15</td>\n",
       "      <td>6.12</td>\n",
       "      <td>3.74</td>\n",
       "      <td>2757</td>\n",
       "    </tr>\n",
       "    <tr>\n",
       "      <th>53939</th>\n",
       "      <td>0.75</td>\n",
       "      <td>3457.541970</td>\n",
       "      <td>3169.954096</td>\n",
       "      <td>5063.028606</td>\n",
       "      <td>62.2</td>\n",
       "      <td>55.0</td>\n",
       "      <td>5.83</td>\n",
       "      <td>5.87</td>\n",
       "      <td>3.64</td>\n",
       "      <td>2757</td>\n",
       "    </tr>\n",
       "  </tbody>\n",
       "</table>\n",
       "<p>53940 rows × 10 columns</p>\n",
       "</div>"
      ],
      "text/plain": [
       "       carat          cut        color      clarity  depth  table     x     y  \\\n",
       "0       0.23  3457.541970  3076.752475  5063.028606   61.5   55.0  3.95  3.98   \n",
       "1       0.21  4584.257704  3076.752475  3996.001148   59.8   61.0  3.89  3.84   \n",
       "2       0.23  3928.864452  3076.752475  3839.455391   56.9   65.0  4.05  4.07   \n",
       "3       0.29  4584.257704  5091.874954  3924.989395   62.4   58.0  4.20  4.23   \n",
       "4       0.31  3928.864452  5323.818020  5063.028606   63.3   58.0  4.34  4.35   \n",
       "...      ...          ...          ...          ...    ...    ...   ...   ...   \n",
       "53935   0.72  3457.541970  3169.954096  3996.001148   60.8   57.0  5.75  5.76   \n",
       "53936   0.72  3928.864452  3169.954096  3996.001148   63.1   55.0  5.69  5.75   \n",
       "53937   0.70  3981.759891  3169.954096  3996.001148   62.8   60.0  5.66  5.68   \n",
       "53938   0.86  4584.257704  4486.669196  5063.028606   61.0   58.0  6.15  6.12   \n",
       "53939   0.75  3457.541970  3169.954096  5063.028606   62.2   55.0  5.83  5.87   \n",
       "\n",
       "          z  price  \n",
       "0      2.43    326  \n",
       "1      2.31    326  \n",
       "2      2.31    327  \n",
       "3      2.63    334  \n",
       "4      2.75    335  \n",
       "...     ...    ...  \n",
       "53935  3.50   2757  \n",
       "53936  3.61   2757  \n",
       "53937  3.56   2757  \n",
       "53938  3.74   2757  \n",
       "53939  3.64   2757  \n",
       "\n",
       "[53940 rows x 10 columns]"
      ]
     },
     "execution_count": 219,
     "metadata": {},
     "output_type": "execute_result"
    }
   ],
   "source": [
    "df"
   ]
  },
  {
   "cell_type": "markdown",
   "id": "f7987776-6e27-47f0-b754-98fe0b458c8d",
   "metadata": {},
   "source": [
    "# Local Outlier Factor"
   ]
  },
  {
   "cell_type": "code",
   "execution_count": 220,
   "id": "c2619f07-a0c7-4249-9bbc-400eb1721fc7",
   "metadata": {
    "tags": []
   },
   "outputs": [],
   "source": [
    "from pyod.models.lof import LOF"
   ]
  },
  {
   "cell_type": "code",
   "execution_count": 221,
   "id": "a740cea3-2e9a-493d-b535-96500c645122",
   "metadata": {
    "tags": []
   },
   "outputs": [
    {
     "data": {
      "text/plain": [
       "LOF(algorithm='auto', contamination=0.1, leaf_size=30, metric='manhattan',\n",
       "  metric_params=None, n_jobs=1, n_neighbors=20, novelty=True, p=2)"
      ]
     },
     "execution_count": 221,
     "metadata": {},
     "output_type": "execute_result"
    }
   ],
   "source": [
    "lof=LOF(n_neighbors=20, metric=\"manhattan\")\n",
    "lof.fit(df)"
   ]
  },
  {
   "cell_type": "code",
   "execution_count": 222,
   "id": "1e1e0b93-c1f5-4b10-936e-c12fa824b552",
   "metadata": {
    "tags": []
   },
   "outputs": [
    {
     "data": {
      "text/plain": [
       "array([1.77955056, 2.17746986, 1.86435141, ..., 0.96169584, 1.02513648,\n",
       "       1.02264355])"
      ]
     },
     "execution_count": 222,
     "metadata": {},
     "output_type": "execute_result"
    }
   ],
   "source": [
    "scores=lof.decision_function(df)\n",
    "scores"
   ]
  },
  {
   "cell_type": "code",
   "execution_count": 223,
   "id": "4b30870d-848e-463f-a070-c415361bb81e",
   "metadata": {
    "tags": []
   },
   "outputs": [],
   "source": [
    "probs=lof.predict_proba(df)[:,1]"
   ]
  },
  {
   "cell_type": "code",
   "execution_count": 224,
   "id": "4fbc7085-5964-4eb3-9613-a5d09c96b100",
   "metadata": {
    "tags": []
   },
   "outputs": [],
   "source": [
    "tablo=pd.DataFrame({\n",
    "    \"lof_scores\":scores,\n",
    "    \"probs\":probs\n",
    "}).sort_values(by=\"lof_scores\", ascending=False)"
   ]
  },
  {
   "cell_type": "code",
   "execution_count": 225,
   "id": "fbc168c3-b432-48de-a34b-7b72f7ec0035",
   "metadata": {
    "tags": []
   },
   "outputs": [
    {
     "data": {
      "text/html": [
       "<div>\n",
       "<style scoped>\n",
       "    .dataframe tbody tr th:only-of-type {\n",
       "        vertical-align: middle;\n",
       "    }\n",
       "\n",
       "    .dataframe tbody tr th {\n",
       "        vertical-align: top;\n",
       "    }\n",
       "\n",
       "    .dataframe thead th {\n",
       "        text-align: right;\n",
       "    }\n",
       "</style>\n",
       "<table border=\"1\" class=\"dataframe\">\n",
       "  <thead>\n",
       "    <tr style=\"text-align: right;\">\n",
       "      <th></th>\n",
       "      <th>lof_scores</th>\n",
       "      <th>probs</th>\n",
       "    </tr>\n",
       "  </thead>\n",
       "  <tbody>\n",
       "    <tr>\n",
       "      <th>30187</th>\n",
       "      <td>44.063924</td>\n",
       "      <td>0.914598</td>\n",
       "    </tr>\n",
       "    <tr>\n",
       "      <th>30341</th>\n",
       "      <td>23.384179</td>\n",
       "      <td>0.476552</td>\n",
       "    </tr>\n",
       "    <tr>\n",
       "      <th>30340</th>\n",
       "      <td>23.342116</td>\n",
       "      <td>0.475661</td>\n",
       "    </tr>\n",
       "    <tr>\n",
       "      <th>35826</th>\n",
       "      <td>19.791068</td>\n",
       "      <td>0.400441</td>\n",
       "    </tr>\n",
       "    <tr>\n",
       "      <th>39942</th>\n",
       "      <td>16.502703</td>\n",
       "      <td>0.330786</td>\n",
       "    </tr>\n",
       "    <tr>\n",
       "      <th>33521</th>\n",
       "      <td>9.830943</td>\n",
       "      <td>0.189462</td>\n",
       "    </tr>\n",
       "    <tr>\n",
       "      <th>33522</th>\n",
       "      <td>9.355285</td>\n",
       "      <td>0.179387</td>\n",
       "    </tr>\n",
       "    <tr>\n",
       "      <th>32551</th>\n",
       "      <td>8.805555</td>\n",
       "      <td>0.167742</td>\n",
       "    </tr>\n",
       "    <tr>\n",
       "      <th>51977</th>\n",
       "      <td>8.782695</td>\n",
       "      <td>0.167258</td>\n",
       "    </tr>\n",
       "    <tr>\n",
       "      <th>15764</th>\n",
       "      <td>8.230958</td>\n",
       "      <td>0.155571</td>\n",
       "    </tr>\n",
       "  </tbody>\n",
       "</table>\n",
       "</div>"
      ],
      "text/plain": [
       "       lof_scores     probs\n",
       "30187   44.063924  0.914598\n",
       "30341   23.384179  0.476552\n",
       "30340   23.342116  0.475661\n",
       "35826   19.791068  0.400441\n",
       "39942   16.502703  0.330786\n",
       "33521    9.830943  0.189462\n",
       "33522    9.355285  0.179387\n",
       "32551    8.805555  0.167742\n",
       "51977    8.782695  0.167258\n",
       "15764    8.230958  0.155571"
      ]
     },
     "execution_count": 225,
     "metadata": {},
     "output_type": "execute_result"
    }
   ],
   "source": [
    "tablo[:10]"
   ]
  },
  {
   "cell_type": "code",
   "execution_count": 226,
   "id": "87b9f410-4f86-4b01-9d78-548e40570db7",
   "metadata": {
    "tags": []
   },
   "outputs": [
    {
     "data": {
      "image/png": "[encoded data removed]",
      "text/plain": [
       "<Figure size 1500x500 with 1 Axes>"
      ]
     },
     "metadata": {},
     "output_type": "display_data"
    }
   ],
   "source": [
    "tablo.reset_index(drop=True)[\"lof_scores\"].plot(xlim=[0,30], figsize=(15,5), ylabel=\"lof_scores\", title=\"elbow method\");"
   ]
  },
  {
   "cell_type": "code",
   "execution_count": 227,
   "id": "6975b665-d8f7-4ccc-a3fc-4b60b20b1d83",
   "metadata": {
    "tags": []
   },
   "outputs": [
    {
     "data": {
      "text/html": [
       "<div>\n",
       "<style scoped>\n",
       "    .dataframe tbody tr th:only-of-type {\n",
       "        vertical-align: middle;\n",
       "    }\n",
       "\n",
       "    .dataframe tbody tr th {\n",
       "        vertical-align: top;\n",
       "    }\n",
       "\n",
       "    .dataframe thead th {\n",
       "        text-align: right;\n",
       "    }\n",
       "</style>\n",
       "<table border=\"1\" class=\"dataframe\">\n",
       "  <thead>\n",
       "    <tr style=\"text-align: right;\">\n",
       "      <th></th>\n",
       "      <th>lof_scores</th>\n",
       "      <th>probs</th>\n",
       "    </tr>\n",
       "  </thead>\n",
       "  <tbody>\n",
       "    <tr>\n",
       "      <th>30187</th>\n",
       "      <td>44.063924</td>\n",
       "      <td>0.914598</td>\n",
       "    </tr>\n",
       "    <tr>\n",
       "      <th>30341</th>\n",
       "      <td>23.384179</td>\n",
       "      <td>0.476552</td>\n",
       "    </tr>\n",
       "    <tr>\n",
       "      <th>30340</th>\n",
       "      <td>23.342116</td>\n",
       "      <td>0.475661</td>\n",
       "    </tr>\n",
       "    <tr>\n",
       "      <th>35826</th>\n",
       "      <td>19.791068</td>\n",
       "      <td>0.400441</td>\n",
       "    </tr>\n",
       "    <tr>\n",
       "      <th>39942</th>\n",
       "      <td>16.502703</td>\n",
       "      <td>0.330786</td>\n",
       "    </tr>\n",
       "  </tbody>\n",
       "</table>\n",
       "</div>"
      ],
      "text/plain": [
       "       lof_scores     probs\n",
       "30187   44.063924  0.914598\n",
       "30341   23.384179  0.476552\n",
       "30340   23.342116  0.475661\n",
       "35826   19.791068  0.400441\n",
       "39942   16.502703  0.330786"
      ]
     },
     "execution_count": 227,
     "metadata": {},
     "output_type": "execute_result"
    }
   ],
   "source": [
    "tablo[tablo[\"lof_scores\"]>10]"
   ]
  },
  {
   "cell_type": "code",
   "execution_count": null,
   "id": "5c8ecd3c-b6d9-49bf-8043-b910d4d64f88",
   "metadata": {},
   "outputs": [],
   "source": []
  },
  {
   "cell_type": "code",
   "execution_count": null,
   "id": "e426f225-a746-48d5-97c0-076e540c9aa3",
   "metadata": {},
   "outputs": [],
   "source": []
  }
 ],
 "metadata": {
  "kernelspec": {
   "display_name": "Python 3 (ipykernel)",
   "language": "python",
   "name": "python3"
  },
  "language_info": {
   "codemirror_mode": {
    "name": "ipython",
    "version": 3
   },
   "file_extension": ".py",
   "mimetype": "text/x-python",
   "name": "python",
   "nbconvert_exporter": "python",
   "pygments_lexer": "ipython3",
   "version": "3.11.3"
  }
 },
 "nbformat": 4,
 "nbformat_minor": 5
}
